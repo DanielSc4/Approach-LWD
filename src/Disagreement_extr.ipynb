{
 "cells": [
  {
   "cell_type": "code",
   "execution_count": 1,
   "metadata": {},
   "outputs": [],
   "source": [
    "import pandas as pd\n",
    "import numpy as np"
   ]
  },
  {
   "attachments": {},
   "cell_type": "markdown",
   "metadata": {},
   "source": [
    "### Data management"
   ]
  },
  {
   "cell_type": "code",
   "execution_count": 54,
   "metadata": {},
   "outputs": [],
   "source": [
    "absolute_path = '../data/data_post_comptetition/'\n",
    "\n",
    "# to add split.json\n",
    "original_dataset_path = {\n",
    "    'ArMIS': absolute_path + 'ArMIS_dataset/ArMIS_',\n",
    "    'ConvAbuse': absolute_path + 'ConvAbuse_dataset/ConvAbuse_',\n",
    "    'Brexit': absolute_path + 'HS-Brexit_dataset/HS-Brexit_',\n",
    "    'MD': absolute_path + 'MD-Agreement_dataset/MD-Agreement_',\n",
    "}\n",
    "\n",
    "dfs = {}\n",
    "\n",
    "for name in original_dataset_path:\n",
    "    dfs[name] = pd.concat([\n",
    "        pd.read_json(original_dataset_path[name] + 'train.json', orient = 'index'),\n",
    "        pd.read_json(original_dataset_path[name] + 'dev.json', orient = 'index'),\n",
    "        pd.read_json(original_dataset_path[name] + 'test.json', orient = 'index'),\n",
    "    ]).loc[:, ['text', 'number of annotations', 'hard_label', 'soft_label', 'split']]"
   ]
  },
  {
   "attachments": {},
   "cell_type": "markdown",
   "metadata": {},
   "source": [
    "### Extracting Level of Disagreement (LoD)"
   ]
  },
  {
   "cell_type": "code",
   "execution_count": 55,
   "metadata": {},
   "outputs": [
    {
     "data": {
      "text/html": [
       "<div>\n",
       "<style scoped>\n",
       "    .dataframe tbody tr th:only-of-type {\n",
       "        vertical-align: middle;\n",
       "    }\n",
       "\n",
       "    .dataframe tbody tr th {\n",
       "        vertical-align: top;\n",
       "    }\n",
       "\n",
       "    .dataframe thead th {\n",
       "        text-align: right;\n",
       "    }\n",
       "</style>\n",
       "<table border=\"1\" class=\"dataframe\">\n",
       "  <thead>\n",
       "    <tr style=\"text-align: right;\">\n",
       "      <th></th>\n",
       "      <th>text</th>\n",
       "      <th>number of annotations</th>\n",
       "      <th>hard_label</th>\n",
       "      <th>soft_label</th>\n",
       "      <th>split</th>\n",
       "    </tr>\n",
       "  </thead>\n",
       "  <tbody>\n",
       "    <tr>\n",
       "      <th>1</th>\n",
       "      <td>&lt;user&gt; &lt;user&gt; I'm so glad about #Brexit.. My a...</td>\n",
       "      <td>6</td>\n",
       "      <td>0</td>\n",
       "      <td>{'0': 1.0, '1': 0.0}</td>\n",
       "      <td>train</td>\n",
       "    </tr>\n",
       "    <tr>\n",
       "      <th>2</th>\n",
       "      <td>RT &lt;user&gt;: There was more to #Brexit than immi...</td>\n",
       "      <td>6</td>\n",
       "      <td>0</td>\n",
       "      <td>{'0': 1.0, '1': 0.0}</td>\n",
       "      <td>train</td>\n",
       "    </tr>\n",
       "    <tr>\n",
       "      <th>3</th>\n",
       "      <td>At the end of the day, the leave campaign won ...</td>\n",
       "      <td>6</td>\n",
       "      <td>0</td>\n",
       "      <td>{'0': 1.0, '1': 0.0}</td>\n",
       "      <td>train</td>\n",
       "    </tr>\n",
       "    <tr>\n",
       "      <th>4</th>\n",
       "      <td>So the reducing migration thing wasn't quite w...</td>\n",
       "      <td>6</td>\n",
       "      <td>0</td>\n",
       "      <td>{'0': 1.0, '1': 0.0}</td>\n",
       "      <td>train</td>\n",
       "    </tr>\n",
       "    <tr>\n",
       "      <th>5</th>\n",
       "      <td>A Brit Immigrant Asks Britain to Become India’...</td>\n",
       "      <td>6</td>\n",
       "      <td>0</td>\n",
       "      <td>{'0': 1.0, '1': 0.0}</td>\n",
       "      <td>train</td>\n",
       "    </tr>\n",
       "    <tr>\n",
       "      <th>...</th>\n",
       "      <td>...</td>\n",
       "      <td>...</td>\n",
       "      <td>...</td>\n",
       "      <td>...</td>\n",
       "      <td>...</td>\n",
       "    </tr>\n",
       "    <tr>\n",
       "      <th>164</th>\n",
       "      <td>&lt;user&gt; Hmm... for #Brexit they can't really ch...</td>\n",
       "      <td>6</td>\n",
       "      <td>0</td>\n",
       "      <td>{'0': 1.0, '1': 0.0}</td>\n",
       "      <td>test</td>\n",
       "    </tr>\n",
       "    <tr>\n",
       "      <th>165</th>\n",
       "      <td>Sadiq, Isis Muslim mayor is a total lunatic an...</td>\n",
       "      <td>6</td>\n",
       "      <td>1</td>\n",
       "      <td>{'0': 0.5, '1': 0.5}</td>\n",
       "      <td>test</td>\n",
       "    </tr>\n",
       "    <tr>\n",
       "      <th>166</th>\n",
       "      <td>Fusilier Lee Rigby&amp;lt;----Not Forgotten During...</td>\n",
       "      <td>6</td>\n",
       "      <td>1</td>\n",
       "      <td>{'0': 0.5, '1': 0.5}</td>\n",
       "      <td>test</td>\n",
       "    </tr>\n",
       "    <tr>\n",
       "      <th>167</th>\n",
       "      <td>Because the world Knows #Trump is the only one...</td>\n",
       "      <td>6</td>\n",
       "      <td>0</td>\n",
       "      <td>{'0': 1.0, '1': 0.0}</td>\n",
       "      <td>test</td>\n",
       "    </tr>\n",
       "    <tr>\n",
       "      <th>168</th>\n",
       "      <td>Props to Putin, I guess...?\\n\\nHow Russia is '...</td>\n",
       "      <td>6</td>\n",
       "      <td>0</td>\n",
       "      <td>{'0': 1.0, '1': 0.0}</td>\n",
       "      <td>test</td>\n",
       "    </tr>\n",
       "  </tbody>\n",
       "</table>\n",
       "<p>1120 rows × 5 columns</p>\n",
       "</div>"
      ],
      "text/plain": [
       "                                                  text  number of annotations  \\\n",
       "1    <user> <user> I'm so glad about #Brexit.. My a...                      6   \n",
       "2    RT <user>: There was more to #Brexit than immi...                      6   \n",
       "3    At the end of the day, the leave campaign won ...                      6   \n",
       "4    So the reducing migration thing wasn't quite w...                      6   \n",
       "5    A Brit Immigrant Asks Britain to Become India’...                      6   \n",
       "..                                                 ...                    ...   \n",
       "164  <user> Hmm... for #Brexit they can't really ch...                      6   \n",
       "165  Sadiq, Isis Muslim mayor is a total lunatic an...                      6   \n",
       "166  Fusilier Lee Rigby&lt;----Not Forgotten During...                      6   \n",
       "167  Because the world Knows #Trump is the only one...                      6   \n",
       "168  Props to Putin, I guess...?\\n\\nHow Russia is '...                      6   \n",
       "\n",
       "     hard_label            soft_label  split  \n",
       "1             0  {'0': 1.0, '1': 0.0}  train  \n",
       "2             0  {'0': 1.0, '1': 0.0}  train  \n",
       "3             0  {'0': 1.0, '1': 0.0}  train  \n",
       "4             0  {'0': 1.0, '1': 0.0}  train  \n",
       "5             0  {'0': 1.0, '1': 0.0}  train  \n",
       "..          ...                   ...    ...  \n",
       "164           0  {'0': 1.0, '1': 0.0}   test  \n",
       "165           1  {'0': 0.5, '1': 0.5}   test  \n",
       "166           1  {'0': 0.5, '1': 0.5}   test  \n",
       "167           0  {'0': 1.0, '1': 0.0}   test  \n",
       "168           0  {'0': 1.0, '1': 0.0}   test  \n",
       "\n",
       "[1120 rows x 5 columns]"
      ]
     },
     "execution_count": 55,
     "metadata": {},
     "output_type": "execute_result"
    }
   ],
   "source": [
    "dfs['Brexit']"
   ]
  },
  {
   "cell_type": "code",
   "execution_count": 86,
   "metadata": {},
   "outputs": [
    {
     "data": {
      "text/plain": [
       "(0.3333333333333333, 0.6666666666666666)"
      ]
     },
     "execution_count": 86,
     "metadata": {},
     "output_type": "execute_result"
    }
   ],
   "source": [
    "def disagrement_level(n_annotators):\n",
    "    if n_annotators % 2 == 0:\n",
    "        return .5\n",
    "    else:\n",
    "        middle_num = n_annotators / 2\n",
    "        return np.floor(middle_num)/n_annotators, np.ceil(middle_num)/n_annotators\n",
    "\n",
    "disagrement_level(3)"
   ]
  },
  {
   "cell_type": "code",
   "execution_count": 87,
   "metadata": {},
   "outputs": [
    {
     "data": {
      "text/plain": [
       "1        {'0': 1.0, '1': 0.0}\n",
       "2      {'0': 0.33, '1': 0.67}\n",
       "3        {'0': 0.0, '1': 1.0}\n",
       "4        {'0': 1.0, '1': 0.0}\n",
       "5      {'0': 0.67, '1': 0.33}\n",
       "                ...          \n",
       "141      {'0': 1.0, '1': 0.0}\n",
       "142    {'0': 0.67, '1': 0.33}\n",
       "143      {'0': 1.0, '1': 0.0}\n",
       "144    {'0': 0.67, '1': 0.33}\n",
       "145      {'0': 1.0, '1': 0.0}\n",
       "Name: soft_label, Length: 943, dtype: object"
      ]
     },
     "execution_count": 87,
     "metadata": {},
     "output_type": "execute_result"
    }
   ],
   "source": [
    "dfs['ArMIS']['soft_label']"
   ]
  },
  {
   "attachments": {},
   "cell_type": "markdown",
   "metadata": {},
   "source": [
    "Per il confronto tra le label non usare disagrement_level == soft label ma prova ad usare la sottrazione. Alcuni numeri possono essere uguali ma approssimati diversamente:\n",
    "- 0.33 != 0.333\n",
    "```\n",
    "if np.abs(0.3333 - 0.33) < 1e-2:\n",
    "    print('numeri uguali')\n",
    "else:\n",
    "    print('non sono uguali')"
   ]
  },
  {
   "cell_type": "code",
   "execution_count": 28,
   "metadata": {},
   "outputs": [
    {
     "data": {
      "text/plain": [
       "1       1\n",
       "2       1\n",
       "3       0\n",
       "4       1\n",
       "5       0\n",
       "       ..\n",
       "3053    0\n",
       "3054    0\n",
       "3055    0\n",
       "3056    0\n",
       "3057    1\n",
       "Name: soft_label, Length: 10753, dtype: int64"
      ]
     },
     "execution_count": 28,
     "metadata": {},
     "output_type": "execute_result"
    }
   ],
   "source": [
    "\n",
    "\n",
    "dfs['Brexit']['soft_label'].apply(lambda x: 1 if (x['0'] == 0.) or (x['0'] == 1.) else 0)"
   ]
  }
 ],
 "metadata": {
  "kernelspec": {
   "display_name": "base",
   "language": "python",
   "name": "python3"
  },
  "language_info": {
   "codemirror_mode": {
    "name": "ipython",
    "version": 3
   },
   "file_extension": ".py",
   "mimetype": "text/x-python",
   "name": "python",
   "nbconvert_exporter": "python",
   "pygments_lexer": "ipython3",
   "version": "3.9.15"
  },
  "orig_nbformat": 4
 },
 "nbformat": 4,
 "nbformat_minor": 2
}
