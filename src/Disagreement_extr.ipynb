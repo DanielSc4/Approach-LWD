{
 "cells": [
  {
   "cell_type": "code",
   "execution_count": 3,
   "metadata": {},
   "outputs": [],
   "source": [
    "import pandas as pd\n",
    "import numpy as np"
   ]
  },
  {
   "attachments": {},
   "cell_type": "markdown",
   "metadata": {},
   "source": [
    "### Data management"
   ]
  },
  {
   "cell_type": "code",
   "execution_count": 4,
   "metadata": {},
   "outputs": [],
   "source": [
    "absolute_path = '../data/data_post_comptetition/'\n",
    "\n",
    "# to add split.json\n",
    "original_dataset_path = {\n",
    "    'ArMIS': absolute_path + 'ArMIS_dataset/ArMIS_',\n",
    "    'ConvAbuse': absolute_path + 'ConvAbuse_dataset/ConvAbuse_',\n",
    "    'Brexit': absolute_path + 'HS-Brexit_dataset/HS-Brexit_',\n",
    "    'MD': absolute_path + 'MD-Agreement_dataset/MD-Agreement_',\n",
    "}\n",
    "\n",
    "dfs = {}\n",
    "\n",
    "for name in original_dataset_path:\n",
    "    dfs[name] = pd.concat([\n",
    "        pd.read_json(original_dataset_path[name] + 'train.json', orient = 'index'),\n",
    "        pd.read_json(original_dataset_path[name] + 'dev.json', orient = 'index'),\n",
    "        pd.read_json(original_dataset_path[name] + 'test.json', orient = 'index'),\n",
    "    ]).loc[:, ['text', 'number of annotations', 'hard_label', 'soft_label', 'split']]"
   ]
  },
  {
   "attachments": {},
   "cell_type": "markdown",
   "metadata": {},
   "source": [
    "### Extracting Level of Disagreement (LoD)"
   ]
  },
  {
   "cell_type": "code",
   "execution_count": 27,
   "metadata": {},
   "outputs": [
    {
     "data": {
      "text/plain": [
       "1"
      ]
     },
     "execution_count": 27,
     "metadata": {},
     "output_type": "execute_result"
    }
   ],
   "source": [
    "def disagrement_level(n_annotators):\n",
    "    if n_annotators % 2 == 0:\n",
    "        return (.5, .5)\n",
    "    else:\n",
    "        middle_num = n_annotators / 2\n",
    "        return (\n",
    "            round(np.floor(middle_num) / n_annotators, 1), \n",
    "            round(np.ceil(middle_num) / n_annotators, 1),\n",
    "        )\n",
    "\n",
    "\n",
    "def get_disagreement(soft_label, n_annotators):\n",
    "    if soft_label['0'] == 0 or soft_label['1'] == 0:\n",
    "        return 0    # no disagreement\n",
    "    dis_level = [round(x, 1) for x in disagrement_level(n_annotators)]\n",
    "    if round(soft_label['0'], 1) in dis_level:\n",
    "        return 1    # disagreement\n",
    "    else:\n",
    "        return 2    # slighty disagreement\n",
    "\n",
    "\n",
    "# disagrement_level(3)\n",
    "get_disagreement({'0': .5, '1': .5}, 6)"
   ]
  },
  {
   "cell_type": "code",
   "execution_count": 28,
   "metadata": {},
   "outputs": [
    {
     "data": {
      "text/plain": [
       "1      {'0': 1.0, '1': 0.0}\n",
       "2      {'0': 1.0, '1': 0.0}\n",
       "3      {'0': 1.0, '1': 0.0}\n",
       "4      {'0': 1.0, '1': 0.0}\n",
       "5      {'0': 1.0, '1': 0.0}\n",
       "               ...         \n",
       "164    {'0': 1.0, '1': 0.0}\n",
       "165    {'0': 0.5, '1': 0.5}\n",
       "166    {'0': 0.5, '1': 0.5}\n",
       "167    {'0': 1.0, '1': 0.0}\n",
       "168    {'0': 1.0, '1': 0.0}\n",
       "Name: soft_label, Length: 1120, dtype: object"
      ]
     },
     "execution_count": 28,
     "metadata": {},
     "output_type": "execute_result"
    }
   ],
   "source": [
    "dfs['Brexit']['soft_label']"
   ]
  },
  {
   "cell_type": "code",
   "execution_count": 34,
   "metadata": {},
   "outputs": [],
   "source": [
    "for name in dfs:\n",
    "    dfs[name]['disagreement_lev'] = dfs[name].apply(lambda x: get_disagreement(x['soft_label'], x['number of annotations']), axis = 1)"
   ]
  },
  {
   "cell_type": "code",
   "execution_count": 39,
   "metadata": {},
   "outputs": [],
   "source": [
    "# storing to disk\n",
    "for name in dfs:\n",
    "    dfs[name].to_csv(f'../data/{name}_LoD.csv')"
   ]
  }
 ],
 "metadata": {
  "kernelspec": {
   "display_name": "base",
   "language": "python",
   "name": "python3"
  },
  "language_info": {
   "codemirror_mode": {
    "name": "ipython",
    "version": 3
   },
   "file_extension": ".py",
   "mimetype": "text/x-python",
   "name": "python",
   "nbconvert_exporter": "python",
   "pygments_lexer": "ipython3",
   "version": "3.9.15"
  },
  "orig_nbformat": 4
 },
 "nbformat": 4,
 "nbformat_minor": 2
}
