{
 "cells": [
  {
   "attachments": {},
   "cell_type": "markdown",
   "metadata": {},
   "source": [
    "## Imports"
   ]
  },
  {
   "cell_type": "code",
   "execution_count": null,
   "metadata": {},
   "outputs": [],
   "source": [
    "## Uncomment only on colab\n",
    "# !pip install transformers\n",
    "# !git clone https://github.com/DanielSc4/Approach-LWD.git\n",
    "# %cd Approach-LWD/src"
   ]
  },
  {
   "cell_type": "code",
   "execution_count": 38,
   "metadata": {},
   "outputs": [],
   "source": [
    "from transformers import AutoTokenizer, AutoModelForMaskedLM\n",
    "import torch\n",
    "\n",
    "# from torch.utils.data import Dataset\n",
    "from models.CustomDatasetBinary import CustomDatasetBinary\n",
    "from torch.utils.data import DataLoader\n",
    "\n",
    "from tqdm import tqdm\n",
    "\n",
    "import pandas as pd\n",
    "import numpy as np\n",
    "import matplotlib.pyplot as plt"
   ]
  },
  {
   "cell_type": "code",
   "execution_count": null,
   "metadata": {},
   "outputs": [],
   "source": [
    "### models_name = 'bert-base-uncased'\n",
    "\n",
    "# BERT\n",
    "# models_name = 'bert-base-uncased'\n",
    "# RoBERTa\n",
    "model_name = 'xlm-roberta-base'"
   ]
  },
  {
   "cell_type": "code",
   "execution_count": 39,
   "metadata": {},
   "outputs": [
    {
     "name": "stdout",
     "output_type": "stream",
     "text": [
      "Using MPS\n"
     ]
    }
   ],
   "source": [
    "# selecting device based on whats available\n",
    "device = ''\n",
    "if torch.cuda.is_available():\n",
    "    print('Using GPU')\n",
    "    device = 'cuda'\n",
    "# Only on torch night for Apple M1 GPU\n",
    "elif torch.backends.mps.is_available():\n",
    "    print('Using MPS (Apple Silicon GPU)')\n",
    "    device = 'mps'\n",
    "else:\n",
    "    print('Using CPU, :(')\n",
    "    device = 'cpu'"
   ]
  },
  {
   "attachments": {},
   "cell_type": "markdown",
   "metadata": {},
   "source": [
    "## Datasets & loaders"
   ]
  },
  {
   "cell_type": "code",
   "execution_count": 29,
   "metadata": {},
   "outputs": [
    {
     "name": "stdout",
     "output_type": "stream",
     "text": [
      "----------\n",
      "|-> Using fake_df: size 112\n",
      "----------\n",
      "len: \n",
      "\tTrain: 112\n",
      "\tVal: 112\n",
      "\tTest: 112\n"
     ]
    }
   ],
   "source": [
    "tokenizer = AutoTokenizer.from_pretrained(model_name)\n",
    "\n",
    "# starting w/ MD dataset\n",
    "df = pd.read_csv('../data/MD_LoD.csv', index_col = 0)\n",
    "df\n",
    "\n",
    "# exclude labels == 2 (slightly agreement)\n",
    "df = df[df['disagreement_lev'] != 2]\n",
    "# shuffle dataser\n",
    "df = df.sample(frac=1)\n",
    "\n",
    "\n",
    "BATCH_SIZE = 16\n",
    "\n",
    "train_set = CustomDatasetBinary(df[df['split'] == 'train'], tokenizer, label_col = 'disagreement_lev')\n",
    "val_set = CustomDatasetBinary(df[df['split'] == 'dev'], tokenizer, label_col = 'disagreement_lev')\n",
    "test_set = CustomDatasetBinary(df[df['split'] == 'test'], tokenizer, label_col = 'disagreement_lev')\n",
    "\n",
    "\n",
    "############ only to overfit a batch (test to check model's correctness)\n",
    "fake_df = pd.concat(\n",
    "    [df[:BATCH_SIZE]] * 7   # concat the same batch multiple times\n",
    ")\n",
    "train_set = CustomDatasetBinary(fake_df, tokenizer, label_col = 'disagreement_lev')\n",
    "val_set = CustomDatasetBinary(fake_df, tokenizer, label_col = 'disagreement_lev')\n",
    "test_set = CustomDatasetBinary(fake_df, tokenizer, label_col = 'disagreement_lev')\n",
    "print(f'----------\\n|-> Using fake_df: size {len(fake_df)}\\n----------')\n",
    "############ comment this section to train on the entire data available\n",
    "\n",
    "\n",
    "print(f'len: \\n\\tTrain: {len(train_set)}\\n\\tVal: {len(val_set)}\\n\\tTest: {len(test_set)}')\n",
    "\n",
    "train_loader = DataLoader(train_set, batch_size = BATCH_SIZE, shuffle = False)\n",
    "val_loader = DataLoader(val_set, batch_size = BATCH_SIZE, shuffle = False)\n",
    "test_loader = DataLoader(test_set, batch_size = BATCH_SIZE, shuffle = False)"
   ]
  },
  {
   "attachments": {},
   "cell_type": "markdown",
   "metadata": {},
   "source": [
    "## Model"
   ]
  },
  {
   "cell_type": "code",
   "execution_count": 30,
   "metadata": {},
   "outputs": [
    {
     "name": "stderr",
     "output_type": "stream",
     "text": [
      "Some weights of the model checkpoint at bert-base-uncased were not used when initializing BertModel: ['cls.predictions.bias', 'cls.predictions.transform.dense.weight', 'cls.seq_relationship.weight', 'cls.predictions.transform.dense.bias', 'cls.seq_relationship.bias', 'cls.predictions.decoder.weight', 'cls.predictions.transform.LayerNorm.bias', 'cls.predictions.transform.LayerNorm.weight']\n",
      "- This IS expected if you are initializing BertModel from the checkpoint of a model trained on another task or with another architecture (e.g. initializing a BertForSequenceClassification model from a BertForPreTraining model).\n",
      "- This IS NOT expected if you are initializing BertModel from the checkpoint of a model that you expect to be exactly identical (initializing a BertForSequenceClassification model from a BertForSequenceClassification model).\n"
     ]
    }
   ],
   "source": [
    "from models.TransformerBinaryClassifier import TransformerBinaryClassifier\n",
    "\n",
    "from transformers import AutoModel\n",
    "\n",
    "bert_model = AutoModel.from_pretrained(model_name)"
   ]
  },
  {
   "cell_type": "code",
   "execution_count": 4,
   "metadata": {},
   "outputs": [
    {
     "name": "stdout",
     "output_type": "stream",
     "text": [
      "torch.Size([16, 1])\n"
     ]
    },
    {
     "data": {
      "text/plain": [
       "torch.Size([16])"
      ]
     },
     "execution_count": 4,
     "metadata": {},
     "output_type": "execute_result"
    }
   ],
   "source": [
    "# input of the model: \n",
    "#   input_ids\n",
    "#   attention_mask\n",
    "model = TransformerBinaryClassifier(\n",
    "    model = bert_model,\n",
    "    dropout_rate = .2,\n",
    ")\n",
    "inp, lbl = next(iter(train_loader))\n",
    "out = model(\n",
    "    inp['input_ids'],\n",
    "    inp['attention_mask'],\n",
    ")\n",
    "print(out.shape)\n",
    "out.reshape(len(out)).shape\n"
   ]
  },
  {
   "cell_type": "code",
   "execution_count": 5,
   "metadata": {},
   "outputs": [
    {
     "name": "stdout",
     "output_type": "stream",
     "text": [
      "-- Epoch 01 --\n",
      "   [Recap 01 epoch] - train_loss: 0.770, train_acc: 0.3750 | eval_loss: 0.582, eval_acc: 0.9000 | elapsed time: 17.2s\t <-- Best epoch so far, val\t <-- Best epoch so far, acc\n",
      "\n",
      "-- Epoch 02 --\n",
      "   [Recap 02 epoch] - train_loss: 0.627, train_acc: 0.7188 | eval_loss: 0.542, eval_acc: 0.9000 | elapsed time: 17.3s\t <-- Best epoch so far, val\t <-- Best epoch so far, acc\n",
      "\n",
      "-- Epoch 03 --\n",
      "   [Recap 03 epoch] - train_loss: 0.613, train_acc: 0.6562 | eval_loss: 0.477, eval_acc: 0.9000 | elapsed time: 17.0s\t <-- Best epoch so far, val\t <-- Best epoch so far, acc\n",
      "\n",
      "-- Epoch 04 --\n",
      "   [Recap 04 epoch] - train_loss: 0.479, train_acc: 0.7812 | eval_loss: 0.394, eval_acc: 0.9000 | elapsed time: 17.0s\t <-- Best epoch so far, val\t <-- Best epoch so far, acc\n",
      "\n",
      "-- Epoch 05 --\n",
      "   [Recap 05 epoch] - train_loss: 0.374, train_acc: 0.7812 | eval_loss: 0.336, eval_acc: 0.9000 | elapsed time: 16.9s\t <-- Best epoch so far, val\t <-- Best epoch so far, acc\n",
      "\n",
      "Done\n"
     ]
    }
   ],
   "source": [
    "from models.utils import train_loop\n",
    "import torch.nn as nn\n",
    "\n",
    "from torch.optim import Adam\n",
    "criterion = nn.BCELoss()\n",
    "optimizer = Adam(model.parameters(), lr = 1e-4)\n",
    "\n",
    "history = train_loop(\n",
    "    epochs = 5, \n",
    "    model = model, \n",
    "    device = device, \n",
    "    train_loader = train_loader, \n",
    "    val_loader = val_loader, \n",
    "    optimizer = optimizer, \n",
    "    criterion = criterion,\n",
    "    log_freq = 50, \n",
    "    name = 'test0',\n",
    ")"
   ]
  },
  {
   "attachments": {},
   "cell_type": "markdown",
   "metadata": {},
   "source": [
    "### Plot"
   ]
  },
  {
   "cell_type": "code",
   "execution_count": null,
   "metadata": {},
   "outputs": [],
   "source": [
    "palette = {\n",
    "    0: '#ACBEA3', \n",
    "    1: '#40476D', \n",
    "    2: '#826754', \n",
    "    3: '#EB6534',\n",
    "    4: '#AD5D4E'\n",
    "}\n",
    "plt.figure(figsize= (17, 11), dpi = 200)\n",
    "\n",
    "plt.subplot(2, 1, 1)\n",
    "plt.plot(history['train_losses'], label = 'Train loss', color = palette[1])\n",
    "plt.plot(history['val_losses'], label = 'Validation loss', color = palette[3])\n",
    "plt.title('Training loss')\n",
    "plt.xlabel('Epoch(s)')\n",
    "plt.ylabel('Loss')\n",
    "plt.grid(alpha = .5)\n",
    "plt.legend()\n",
    "\n",
    "plt.subplot(2, 1, 2)\n",
    "plt.plot(history['train_accs'], label = 'Train accuracy', color = palette[1])\n",
    "plt.plot(history['val_accs'], label = 'Validation accuracy', color = palette[3])\n",
    "plt.title('Training accuracy')\n",
    "plt.xlabel('Epoch(s)')\n",
    "plt.ylabel('Accuracy')\n",
    "plt.grid(alpha = .5)\n",
    "plt.legend()\n",
    "\n",
    "plt.show()"
   ]
  },
  {
   "cell_type": "code",
   "execution_count": null,
   "metadata": {},
   "outputs": [],
   "source": [
    "# tmp store\n",
    "import pickle\n",
    "with open('objs.pkl', 'w') as f:\n",
    "    pickle.dump(history, f)"
   ]
  },
  {
   "attachments": {},
   "cell_type": "markdown",
   "metadata": {},
   "source": [
    "## Test"
   ]
  },
  {
   "cell_type": "code",
   "execution_count": null,
   "metadata": {},
   "outputs": [],
   "source": [
    "from models.utils import compute_acc\n",
    "\n",
    "test_model = history['final_model'].to(device)\n",
    "\n",
    "test_model.eval()\n",
    "test_accs = .0\n",
    "\n",
    "for inputs, labels in test_loader():\n",
    "    for ele in inputs:\n",
    "            inputs[ele] = inputs[ele].to(device)\n",
    "    labels = labels.to(device)\n",
    "    with torch.no_grad():\n",
    "          outputs = test_model(\n",
    "                inputs['input_ids'],\n",
    "                inputs['attention_mask'],\n",
    "            ).reshape(len(labels))\n",
    "    test_accs += compute_acc(outputs, labels)\n",
    "\n",
    "print(f'Final accuracy: {test_accs / len(test_loader)}')"
   ]
  }
 ],
 "metadata": {
  "kernelspec": {
   "display_name": "torch",
   "language": "python",
   "name": "python3"
  },
  "language_info": {
   "codemirror_mode": {
    "name": "ipython",
    "version": 3
   },
   "file_extension": ".py",
   "mimetype": "text/x-python",
   "name": "python",
   "nbconvert_exporter": "python",
   "pygments_lexer": "ipython3",
   "version": "3.9.16"
  },
  "orig_nbformat": 4
 },
 "nbformat": 4,
 "nbformat_minor": 2
}
