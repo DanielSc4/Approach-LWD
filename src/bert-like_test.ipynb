{
 "cells": [
  {
   "attachments": {},
   "cell_type": "markdown",
   "metadata": {},
   "source": [
    "## Imports"
   ]
  },
  {
   "cell_type": "code",
   "execution_count": 1,
   "metadata": {},
   "outputs": [],
   "source": [
    "from transformers import BertTokenizer\n",
    "\n",
    "# from torch.utils.data import Dataset\n",
    "from models.CustomDatasetBinary import CustomDatasetBinary\n",
    "from torch.utils.data import DataLoader\n",
    "\n",
    "from tqdm import tqdm\n",
    "\n",
    "import pandas as pd\n",
    "import numpy as np\n",
    "import matplotlib.pyplot as plt"
   ]
  },
  {
   "attachments": {},
   "cell_type": "markdown",
   "metadata": {},
   "source": [
    "## Datasets & loaders"
   ]
  },
  {
   "cell_type": "code",
   "execution_count": 2,
   "metadata": {},
   "outputs": [
    {
     "name": "stdout",
     "output_type": "stream",
     "text": [
      "len: \n",
      "\tTrain: 4662\n",
      "\tVal: 787\n",
      "\tTest: 2148\n"
     ]
    }
   ],
   "source": [
    "tokenizer = BertTokenizer.from_pretrained('bert-base-uncased')\n",
    "# starting w/ MD dataset\n",
    "df = pd.read_csv('../data/MD_LoD.csv', index_col = 0)\n",
    "df\n",
    "\n",
    "# exclude labels == 2 (slightly agreement)\n",
    "df = df[df['disagreement_lev'] != 2]\n",
    "\n",
    "train_set = CustomDatasetBinary(df[df['split'] == 'train'], tokenizer, label_col = 'disagreement_lev')\n",
    "val_set = CustomDatasetBinary(df[df['split'] == 'dev'], tokenizer, label_col = 'disagreement_lev')\n",
    "test_set = CustomDatasetBinary(df[df['split'] == 'test'], tokenizer, label_col = 'disagreement_lev')\n",
    "\n",
    "print(f'len: \\n\\tTrain: {len(train_set)}\\n\\tVal: {len(val_set)}\\n\\tTest: {len(test_set)}')\n",
    "\n",
    "train_loader = DataLoader(train_set, batch_size = 8, shuffle=True)\n",
    "val_loader = DataLoader(val_set, batch_size = 8, shuffle=True)\n",
    "test_loader = DataLoader(test_set, batch_size = 8, shuffle=True)"
   ]
  },
  {
   "attachments": {},
   "cell_type": "markdown",
   "metadata": {},
   "source": [
    "## Model"
   ]
  },
  {
   "cell_type": "code",
   "execution_count": 3,
   "metadata": {},
   "outputs": [
    {
     "name": "stderr",
     "output_type": "stream",
     "text": [
      "Some weights of the model checkpoint at bert-base-uncased were not used when initializing BertModel: ['cls.seq_relationship.weight', 'cls.predictions.transform.dense.weight', 'cls.seq_relationship.bias', 'cls.predictions.transform.LayerNorm.bias', 'cls.predictions.bias', 'cls.predictions.decoder.weight', 'cls.predictions.transform.LayerNorm.weight', 'cls.predictions.transform.dense.bias']\n",
      "- This IS expected if you are initializing BertModel from the checkpoint of a model trained on another task or with another architecture (e.g. initializing a BertForSequenceClassification model from a BertForPreTraining model).\n",
      "- This IS NOT expected if you are initializing BertModel from the checkpoint of a model that you expect to be exactly identical (initializing a BertForSequenceClassification model from a BertForSequenceClassification model).\n"
     ]
    }
   ],
   "source": [
    "from models.TransformerBinaryClassifier import TransformerBinaryClassifier\n",
    "\n",
    "from transformers import BertModel\n",
    "bert_model = BertModel.from_pretrained('bert-base-uncased')"
   ]
  },
  {
   "cell_type": "code",
   "execution_count": 4,
   "metadata": {},
   "outputs": [
    {
     "name": "stdout",
     "output_type": "stream",
     "text": [
      "torch.Size([8, 1])\n"
     ]
    },
    {
     "data": {
      "text/plain": [
       "torch.Size([8])"
      ]
     },
     "execution_count": 4,
     "metadata": {},
     "output_type": "execute_result"
    }
   ],
   "source": [
    "# input of the model: \n",
    "#   input_ids\n",
    "#   attention_mask\n",
    "model = TransformerBinaryClassifier(\n",
    "    model = bert_model,\n",
    "    dropout_rate = .2,\n",
    ")\n",
    "inp, lbl = next(iter(train_loader))\n",
    "out = model(\n",
    "    inp['input_ids'],\n",
    "    inp['attention_mask'],\n",
    ")\n",
    "print(out.shape)\n",
    "out.reshape(len(out)).shape\n"
   ]
  },
  {
   "cell_type": "code",
   "execution_count": 6,
   "metadata": {},
   "outputs": [
    {
     "name": "stdout",
     "output_type": "stream",
     "text": [
      "-- Epoch 01 --\n",
      "   01) [train,    50] \tloss: 0.696\n",
      "   01) [train,   100] \tloss: 0.690\n",
      "   01) [train,   150] \tloss: 0.680\n"
     ]
    },
    {
     "ename": "KeyboardInterrupt",
     "evalue": "",
     "output_type": "error",
     "traceback": [
      "\u001b[0;31m---------------------------------------------------------------------------\u001b[0m",
      "\u001b[0;31mKeyboardInterrupt\u001b[0m                         Traceback (most recent call last)",
      "Cell \u001b[0;32mIn[6], line 8\u001b[0m\n\u001b[1;32m      5\u001b[0m criterion \u001b[39m=\u001b[39m nn\u001b[39m.\u001b[39mBCELoss()\n\u001b[1;32m      6\u001b[0m optimizer \u001b[39m=\u001b[39m Adam(model\u001b[39m.\u001b[39mparameters(), lr \u001b[39m=\u001b[39m \u001b[39m1e-6\u001b[39m)\n\u001b[0;32m----> 8\u001b[0m hystory \u001b[39m=\u001b[39m train_loop(\n\u001b[1;32m      9\u001b[0m     epochs \u001b[39m=\u001b[39;49m \u001b[39m1\u001b[39;49m, \n\u001b[1;32m     10\u001b[0m     model \u001b[39m=\u001b[39;49m model, \n\u001b[1;32m     11\u001b[0m     device \u001b[39m=\u001b[39;49m \u001b[39m'\u001b[39;49m\u001b[39mcpu\u001b[39;49m\u001b[39m'\u001b[39;49m, \n\u001b[1;32m     12\u001b[0m     train_loader \u001b[39m=\u001b[39;49m train_loader, \n\u001b[1;32m     13\u001b[0m     val_loader \u001b[39m=\u001b[39;49m val_loader, \n\u001b[1;32m     14\u001b[0m     optimizer \u001b[39m=\u001b[39;49m optimizer, \n\u001b[1;32m     15\u001b[0m     criterion \u001b[39m=\u001b[39;49m criterion,\n\u001b[1;32m     16\u001b[0m     log_freq \u001b[39m=\u001b[39;49m \u001b[39m50\u001b[39;49m, \n\u001b[1;32m     17\u001b[0m     name \u001b[39m=\u001b[39;49m \u001b[39m'\u001b[39;49m\u001b[39mtest0\u001b[39;49m\u001b[39m'\u001b[39;49m,\n\u001b[1;32m     18\u001b[0m )\n",
      "File \u001b[0;32m~/Documents/Work/Challenge/Approach-LWD/src/models/utils.py:57\u001b[0m, in \u001b[0;36mtrain_loop\u001b[0;34m(epochs, model, device, train_loader, val_loader, optimizer, criterion, log_freq, name)\u001b[0m\n\u001b[1;32m     51\u001b[0m outputs \u001b[39m=\u001b[39m model(\n\u001b[1;32m     52\u001b[0m     inputs[\u001b[39m'\u001b[39m\u001b[39minput_ids\u001b[39m\u001b[39m'\u001b[39m],\n\u001b[1;32m     53\u001b[0m     inputs[\u001b[39m'\u001b[39m\u001b[39mattention_mask\u001b[39m\u001b[39m'\u001b[39m],\n\u001b[1;32m     54\u001b[0m )\u001b[39m.\u001b[39mreshape(\u001b[39mlen\u001b[39m(labels))      \u001b[39m# same as flatten but flutten doesn't work on mps\u001b[39;00m\n\u001b[1;32m     56\u001b[0m loss \u001b[39m=\u001b[39m criterion(outputs, labels)\n\u001b[0;32m---> 57\u001b[0m loss\u001b[39m.\u001b[39;49mbackward()\n\u001b[1;32m     58\u001b[0m optimizer\u001b[39m.\u001b[39mstep()\n\u001b[1;32m     60\u001b[0m \u001b[39m# stats\u001b[39;00m\n",
      "File \u001b[0;32m~/miniforge3/envs/torch_new/lib/python3.9/site-packages/torch/_tensor.py:487\u001b[0m, in \u001b[0;36mTensor.backward\u001b[0;34m(self, gradient, retain_graph, create_graph, inputs)\u001b[0m\n\u001b[1;32m    477\u001b[0m \u001b[39mif\u001b[39;00m has_torch_function_unary(\u001b[39mself\u001b[39m):\n\u001b[1;32m    478\u001b[0m     \u001b[39mreturn\u001b[39;00m handle_torch_function(\n\u001b[1;32m    479\u001b[0m         Tensor\u001b[39m.\u001b[39mbackward,\n\u001b[1;32m    480\u001b[0m         (\u001b[39mself\u001b[39m,),\n\u001b[0;32m   (...)\u001b[0m\n\u001b[1;32m    485\u001b[0m         inputs\u001b[39m=\u001b[39minputs,\n\u001b[1;32m    486\u001b[0m     )\n\u001b[0;32m--> 487\u001b[0m torch\u001b[39m.\u001b[39;49mautograd\u001b[39m.\u001b[39;49mbackward(\n\u001b[1;32m    488\u001b[0m     \u001b[39mself\u001b[39;49m, gradient, retain_graph, create_graph, inputs\u001b[39m=\u001b[39;49minputs\n\u001b[1;32m    489\u001b[0m )\n",
      "File \u001b[0;32m~/miniforge3/envs/torch_new/lib/python3.9/site-packages/torch/autograd/__init__.py:200\u001b[0m, in \u001b[0;36mbackward\u001b[0;34m(tensors, grad_tensors, retain_graph, create_graph, grad_variables, inputs)\u001b[0m\n\u001b[1;32m    195\u001b[0m     retain_graph \u001b[39m=\u001b[39m create_graph\n\u001b[1;32m    197\u001b[0m \u001b[39m# The reason we repeat same the comment below is that\u001b[39;00m\n\u001b[1;32m    198\u001b[0m \u001b[39m# some Python versions print out the first line of a multi-line function\u001b[39;00m\n\u001b[1;32m    199\u001b[0m \u001b[39m# calls in the traceback and some print out the last line\u001b[39;00m\n\u001b[0;32m--> 200\u001b[0m Variable\u001b[39m.\u001b[39;49m_execution_engine\u001b[39m.\u001b[39;49mrun_backward(  \u001b[39m# Calls into the C++ engine to run the backward pass\u001b[39;49;00m\n\u001b[1;32m    201\u001b[0m     tensors, grad_tensors_, retain_graph, create_graph, inputs,\n\u001b[1;32m    202\u001b[0m     allow_unreachable\u001b[39m=\u001b[39;49m\u001b[39mTrue\u001b[39;49;00m, accumulate_grad\u001b[39m=\u001b[39;49m\u001b[39mTrue\u001b[39;49;00m)\n",
      "\u001b[0;31mKeyboardInterrupt\u001b[0m: "
     ]
    }
   ],
   "source": [
    "from models.utils import train_loop\n",
    "import torch.nn as nn\n",
    "\n",
    "from torch.optim import Adam\n",
    "criterion = nn.BCELoss()\n",
    "optimizer = Adam(model.parameters(), lr = 1e-4)\n",
    "\n",
    "hystory = train_loop(\n",
    "    epochs = 5, \n",
    "    model = model, \n",
    "    device = 'cuda', \n",
    "    train_loader = train_loader, \n",
    "    val_loader = val_loader, \n",
    "    optimizer = optimizer, \n",
    "    criterion = criterion,\n",
    "    log_freq = 50, \n",
    "    name = 'test0',\n",
    ")"
   ]
  }
 ],
 "metadata": {
  "kernelspec": {
   "display_name": "torch",
   "language": "python",
   "name": "python3"
  },
  "language_info": {
   "codemirror_mode": {
    "name": "ipython",
    "version": 3
   },
   "file_extension": ".py",
   "mimetype": "text/x-python",
   "name": "python",
   "nbconvert_exporter": "python",
   "pygments_lexer": "ipython3",
   "version": "3.9.16"
  },
  "orig_nbformat": 4
 },
 "nbformat": 4,
 "nbformat_minor": 2
}
