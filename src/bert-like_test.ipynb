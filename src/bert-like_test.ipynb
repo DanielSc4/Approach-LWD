{
 "cells": [
  {
   "attachments": {},
   "cell_type": "markdown",
   "metadata": {},
   "source": [
    "## Imports"
   ]
  },
  {
   "cell_type": "code",
   "execution_count": 1,
   "metadata": {},
   "outputs": [],
   "source": [
    "from transformers import BertTokenizer\n",
    "\n",
    "# from torch.utils.data import Dataset\n",
    "from models.CustomDatasetBinary import CustomDatasetBinary\n",
    "from torch.utils.data import DataLoader\n",
    "\n",
    "from tqdm import tqdm\n",
    "\n",
    "import pandas as pd\n",
    "import numpy as np\n",
    "import matplotlib.pyplot as plt"
   ]
  },
  {
   "attachments": {},
   "cell_type": "markdown",
   "metadata": {},
   "source": [
    "## Datasets & loaders"
   ]
  },
  {
   "cell_type": "code",
   "execution_count": 2,
   "metadata": {},
   "outputs": [
    {
     "name": "stdout",
     "output_type": "stream",
     "text": [
      "len: \n",
      "\tTrain: 4662\n",
      "\tVal: 787\n",
      "\tTest: 2148\n"
     ]
    }
   ],
   "source": [
    "tokenizer = BertTokenizer.from_pretrained('bert-base-uncased')\n",
    "# starting w/ MD dataset\n",
    "df = pd.read_csv('../data/MD_LoD.csv', index_col = 0)\n",
    "df\n",
    "\n",
    "# exclude labels == 2 (slightly agreement)\n",
    "df = df[df['disagreement_lev'] != 2]\n",
    "\n",
    "train_set = CustomDatasetBinary(df[df['split'] == 'train'], tokenizer, label_col = 'disagreement_lev')\n",
    "val_set = CustomDatasetBinary(df[df['split'] == 'dev'], tokenizer, label_col = 'disagreement_lev')\n",
    "test_set = CustomDatasetBinary(df[df['split'] == 'test'], tokenizer, label_col = 'disagreement_lev')\n",
    "\n",
    "print(f'len: \\n\\tTrain: {len(train_set)}\\n\\tVal: {len(val_set)}\\n\\tTest: {len(test_set)}')\n",
    "\n",
    "train_loader = DataLoader(train_set, batch_size = 8, shuffle=True)\n",
    "val_loader = DataLoader(val_set, batch_size = 8, shuffle=True)\n",
    "test_loader = DataLoader(test_set, batch_size = 8, shuffle=True)"
   ]
  },
  {
   "attachments": {},
   "cell_type": "markdown",
   "metadata": {},
   "source": [
    "## Model"
   ]
  },
  {
   "cell_type": "code",
   "execution_count": 3,
   "metadata": {},
   "outputs": [
    {
     "name": "stderr",
     "output_type": "stream",
     "text": [
      "Some weights of the model checkpoint at bert-base-uncased were not used when initializing BertModel: ['cls.seq_relationship.weight', 'cls.predictions.transform.dense.weight', 'cls.seq_relationship.bias', 'cls.predictions.transform.LayerNorm.bias', 'cls.predictions.bias', 'cls.predictions.decoder.weight', 'cls.predictions.transform.LayerNorm.weight', 'cls.predictions.transform.dense.bias']\n",
      "- This IS expected if you are initializing BertModel from the checkpoint of a model trained on another task or with another architecture (e.g. initializing a BertForSequenceClassification model from a BertForPreTraining model).\n",
      "- This IS NOT expected if you are initializing BertModel from the checkpoint of a model that you expect to be exactly identical (initializing a BertForSequenceClassification model from a BertForSequenceClassification model).\n"
     ]
    }
   ],
   "source": [
    "from models.TransformerBinaryClassifier import TransformerBinaryClassifier\n",
    "\n",
    "from transformers import BertModel\n",
    "bert_model = BertModel.from_pretrained('bert-base-uncased')"
   ]
  },
  {
   "cell_type": "code",
   "execution_count": 4,
   "metadata": {},
   "outputs": [
    {
     "name": "stdout",
     "output_type": "stream",
     "text": [
      "torch.Size([8, 1])\n"
     ]
    },
    {
     "data": {
      "text/plain": [
       "torch.Size([8])"
      ]
     },
     "execution_count": 4,
     "metadata": {},
     "output_type": "execute_result"
    }
   ],
   "source": [
    "# input of the model: \n",
    "#   input_ids\n",
    "#   attention_mask\n",
    "model = TransformerBinaryClassifier(\n",
    "    model = bert_model,\n",
    "    dropout_rate = .2,\n",
    ")\n",
    "inp, lbl = next(iter(train_loader))\n",
    "out = model(\n",
    "    inp['input_ids'],\n",
    "    inp['attention_mask'],\n",
    ")\n",
    "print(out.shape)\n",
    "out.reshape(len(out)).shape\n"
   ]
  },
  {
   "cell_type": "code",
   "execution_count": 5,
   "metadata": {},
   "outputs": [
    {
     "data": {
      "text/plain": [
       "tensor([0.5194, 0.4216, 0.4589, 0.4237, 0.5498, 0.5457, 0.4283, 0.5254],\n",
       "       device='mps:0', grad_fn=<ReshapeAliasBackward0>)"
      ]
     },
     "execution_count": 5,
     "metadata": {},
     "output_type": "execute_result"
    }
   ],
   "source": [
    "out = out.to('mps')\n",
    "out.reshape(len(out))"
   ]
  },
  {
   "cell_type": "code",
   "execution_count": 6,
   "metadata": {},
   "outputs": [
    {
     "name": "stdout",
     "output_type": "stream",
     "text": [
      "-- Epoch 01 --\n",
      "   01) [train,    50] \tloss: 0.696\n"
     ]
    }
   ],
   "source": [
    "from models.utils import train_loop\n",
    "import torch.nn as nn\n",
    "\n",
    "from torch.optim import Adam\n",
    "criterion = nn.BCELoss()\n",
    "optimizer = Adam(model.parameters(), lr = 1e-6)\n",
    "\n",
    "hystory = train_loop(\n",
    "    epochs = 1, \n",
    "    model = model, \n",
    "    device = 'cpu', \n",
    "    train_loader = train_loader, \n",
    "    val_loader = val_loader, \n",
    "    optimizer = optimizer, \n",
    "    criterion = criterion,\n",
    "    log_freq = 50, \n",
    "    name = 'test0',\n",
    ")"
   ]
  }
 ],
 "metadata": {
  "kernelspec": {
   "display_name": "torch",
   "language": "python",
   "name": "python3"
  },
  "language_info": {
   "codemirror_mode": {
    "name": "ipython",
    "version": 3
   },
   "file_extension": ".py",
   "mimetype": "text/x-python",
   "name": "python",
   "nbconvert_exporter": "python",
   "pygments_lexer": "ipython3",
   "version": "3.9.16"
  },
  "orig_nbformat": 4
 },
 "nbformat": 4,
 "nbformat_minor": 2
}
